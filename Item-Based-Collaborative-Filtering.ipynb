{
 "cells": [
  {
   "cell_type": "code",
   "execution_count": 1,
   "id": "f528ddef-f037-4e36-bf68-a899a2d843a0",
   "metadata": {},
   "outputs": [],
   "source": [
    "import pandas as pd"
   ]
  },
  {
   "cell_type": "code",
   "execution_count": 2,
   "id": "16b04204-92dc-4f43-8f23-18ca0c191967",
   "metadata": {},
   "outputs": [],
   "source": [
    "pd.set_option('display.max_columns', 500)"
   ]
  },
  {
   "cell_type": "code",
   "execution_count": 3,
   "id": "9a56c67d-c14c-453f-8660-21e1da233cd4",
   "metadata": {},
   "outputs": [],
   "source": [
    "movie = pd.read_csv('desktop/movie.csv')"
   ]
  },
  {
   "cell_type": "code",
   "execution_count": 4,
   "id": "8445de23-4219-440b-b2d5-a6f10ce7bfcb",
   "metadata": {},
   "outputs": [],
   "source": [
    "rating = pd.read_csv('desktop/rating.csv')"
   ]
  },
  {
   "cell_type": "code",
   "execution_count": 5,
   "id": "43a667d5-4a39-4f47-9b6e-36d1392dedcb",
   "metadata": {},
   "outputs": [
    {
     "data": {
      "text/html": [
       "<div>\n",
       "<style scoped>\n",
       "    .dataframe tbody tr th:only-of-type {\n",
       "        vertical-align: middle;\n",
       "    }\n",
       "\n",
       "    .dataframe tbody tr th {\n",
       "        vertical-align: top;\n",
       "    }\n",
       "\n",
       "    .dataframe thead th {\n",
       "        text-align: right;\n",
       "    }\n",
       "</style>\n",
       "<table border=\"1\" class=\"dataframe\">\n",
       "  <thead>\n",
       "    <tr style=\"text-align: right;\">\n",
       "      <th></th>\n",
       "      <th>movieId</th>\n",
       "      <th>title</th>\n",
       "      <th>genres</th>\n",
       "      <th>userId</th>\n",
       "      <th>rating</th>\n",
       "      <th>timestamp</th>\n",
       "    </tr>\n",
       "  </thead>\n",
       "  <tbody>\n",
       "    <tr>\n",
       "      <th>0</th>\n",
       "      <td>1</td>\n",
       "      <td>Toy Story (1995)</td>\n",
       "      <td>Adventure|Animation|Children|Comedy|Fantasy</td>\n",
       "      <td>3.0</td>\n",
       "      <td>4.0</td>\n",
       "      <td>1999-12-11 13:36:47</td>\n",
       "    </tr>\n",
       "    <tr>\n",
       "      <th>1</th>\n",
       "      <td>1</td>\n",
       "      <td>Toy Story (1995)</td>\n",
       "      <td>Adventure|Animation|Children|Comedy|Fantasy</td>\n",
       "      <td>6.0</td>\n",
       "      <td>5.0</td>\n",
       "      <td>1997-03-13 17:50:52</td>\n",
       "    </tr>\n",
       "    <tr>\n",
       "      <th>2</th>\n",
       "      <td>1</td>\n",
       "      <td>Toy Story (1995)</td>\n",
       "      <td>Adventure|Animation|Children|Comedy|Fantasy</td>\n",
       "      <td>8.0</td>\n",
       "      <td>4.0</td>\n",
       "      <td>1996-06-05 13:37:51</td>\n",
       "    </tr>\n",
       "    <tr>\n",
       "      <th>3</th>\n",
       "      <td>1</td>\n",
       "      <td>Toy Story (1995)</td>\n",
       "      <td>Adventure|Animation|Children|Comedy|Fantasy</td>\n",
       "      <td>10.0</td>\n",
       "      <td>4.0</td>\n",
       "      <td>1999-11-25 02:44:47</td>\n",
       "    </tr>\n",
       "    <tr>\n",
       "      <th>4</th>\n",
       "      <td>1</td>\n",
       "      <td>Toy Story (1995)</td>\n",
       "      <td>Adventure|Animation|Children|Comedy|Fantasy</td>\n",
       "      <td>11.0</td>\n",
       "      <td>4.5</td>\n",
       "      <td>2009-01-02 01:13:41</td>\n",
       "    </tr>\n",
       "  </tbody>\n",
       "</table>\n",
       "</div>"
      ],
      "text/plain": [
       "   movieId             title                                       genres  \\\n",
       "0        1  Toy Story (1995)  Adventure|Animation|Children|Comedy|Fantasy   \n",
       "1        1  Toy Story (1995)  Adventure|Animation|Children|Comedy|Fantasy   \n",
       "2        1  Toy Story (1995)  Adventure|Animation|Children|Comedy|Fantasy   \n",
       "3        1  Toy Story (1995)  Adventure|Animation|Children|Comedy|Fantasy   \n",
       "4        1  Toy Story (1995)  Adventure|Animation|Children|Comedy|Fantasy   \n",
       "\n",
       "   userId  rating            timestamp  \n",
       "0     3.0     4.0  1999-12-11 13:36:47  \n",
       "1     6.0     5.0  1997-03-13 17:50:52  \n",
       "2     8.0     4.0  1996-06-05 13:37:51  \n",
       "3    10.0     4.0  1999-11-25 02:44:47  \n",
       "4    11.0     4.5  2009-01-02 01:13:41  "
      ]
     },
     "execution_count": 5,
     "metadata": {},
     "output_type": "execute_result"
    }
   ],
   "source": [
    "df = movie.merge(rating, how=\"left\", on=\"movieId\")\n",
    "df.head()"
   ]
  },
  {
   "cell_type": "code",
   "execution_count": 6,
   "id": "8c0cf4e2-f35b-428e-a37c-c613a30cdf10",
   "metadata": {},
   "outputs": [],
   "source": [
    "#User Movie Df'inin Oluşturulması"
   ]
  },
  {
   "cell_type": "code",
   "execution_count": 7,
   "id": "9e563dd3-0276-4b69-8fe0-2178235611f5",
   "metadata": {},
   "outputs": [
    {
     "data": {
      "text/plain": [
       "(20000797, 6)"
      ]
     },
     "execution_count": 7,
     "metadata": {},
     "output_type": "execute_result"
    }
   ],
   "source": [
    "df.shape"
   ]
  },
  {
   "cell_type": "code",
   "execution_count": 8,
   "id": "4f04b56d-1ab8-4ec9-88b4-c667fbdf724e",
   "metadata": {},
   "outputs": [
    {
     "data": {
      "text/plain": [
       "27262"
      ]
     },
     "execution_count": 8,
     "metadata": {},
     "output_type": "execute_result"
    }
   ],
   "source": [
    "df[\"title\"].nunique()"
   ]
  },
  {
   "cell_type": "code",
   "execution_count": 9,
   "id": "076e3040-1e75-4e7b-826e-4808dc359f26",
   "metadata": {},
   "outputs": [
    {
     "data": {
      "text/plain": [
       "title\n",
       "Pulp Fiction (1994)                 67310\n",
       "Forrest Gump (1994)                 66172\n",
       "Shawshank Redemption, The (1994)    63366\n",
       "Silence of the Lambs, The (1991)    63299\n",
       "Jurassic Park (1993)                59715\n",
       "Name: count, dtype: int64"
      ]
     },
     "execution_count": 9,
     "metadata": {},
     "output_type": "execute_result"
    }
   ],
   "source": [
    "df[\"title\"].value_counts().head()"
   ]
  },
  {
   "cell_type": "code",
   "execution_count": 17,
   "id": "ff002685-6e77-454f-b5ef-7cb48d53d3fa",
   "metadata": {},
   "outputs": [],
   "source": [
    "comment_counts = df[\"title\"].value_counts()"
   ]
  },
  {
   "cell_type": "code",
   "execution_count": 19,
   "id": "d160d77a-bce1-4c82-a3c1-47ce1165c1c0",
   "metadata": {},
   "outputs": [],
   "source": [
    "rare_movies = comment_counts[comment_counts <= 1000].index"
   ]
  },
  {
   "cell_type": "code",
   "execution_count": 22,
   "id": "af3156e9-6f94-447b-8627-6f02731384eb",
   "metadata": {},
   "outputs": [],
   "source": [
    "common_movies = df[~df[\"title\"].isin(rare_movies)]"
   ]
  },
  {
   "cell_type": "code",
   "execution_count": 23,
   "id": "35b7d46d-3c7b-4888-9dae-de11c4337a7a",
   "metadata": {},
   "outputs": [
    {
     "data": {
      "text/plain": [
       "(17766015, 6)"
      ]
     },
     "execution_count": 23,
     "metadata": {},
     "output_type": "execute_result"
    }
   ],
   "source": [
    "common_movies.shape"
   ]
  },
  {
   "cell_type": "code",
   "execution_count": 24,
   "id": "68df23f1-8394-44b5-bf39-f6ef9d4744bd",
   "metadata": {},
   "outputs": [
    {
     "data": {
      "text/plain": [
       "3159"
      ]
     },
     "execution_count": 24,
     "metadata": {},
     "output_type": "execute_result"
    }
   ],
   "source": [
    "common_movies[\"title\"].nunique()"
   ]
  },
  {
   "cell_type": "code",
   "execution_count": 25,
   "id": "290aa143-d347-45d5-8410-ef9115208f73",
   "metadata": {},
   "outputs": [
    {
     "data": {
      "text/plain": [
       "27262"
      ]
     },
     "execution_count": 25,
     "metadata": {},
     "output_type": "execute_result"
    }
   ],
   "source": [
    "df[\"title\"].nunique()"
   ]
  },
  {
   "cell_type": "code",
   "execution_count": 26,
   "id": "8d47d739-a319-46c5-b36b-1539280feaf6",
   "metadata": {},
   "outputs": [],
   "source": [
    "user_movie_df = common_movies.pivot_table(index=[\"userId\"], columns=[\"title\"], values=\"rating\")"
   ]
  },
  {
   "cell_type": "code",
   "execution_count": 27,
   "id": "70077726-4d4d-45ee-bfe0-989edb58443c",
   "metadata": {},
   "outputs": [
    {
     "data": {
      "text/plain": [
       "(138493, 3159)"
      ]
     },
     "execution_count": 27,
     "metadata": {},
     "output_type": "execute_result"
    }
   ],
   "source": [
    "user_movie_df.shape"
   ]
  },
  {
   "cell_type": "code",
   "execution_count": 28,
   "id": "1602177e-5b2a-4dbc-9cb5-ccbdc6251d60",
   "metadata": {},
   "outputs": [
    {
     "data": {
      "text/plain": [
       "Index([''burbs, The (1989)', '(500) Days of Summer (2009)',\n",
       "       '*batteries not included (1987)', '...And Justice for All (1979)',\n",
       "       '10 Things I Hate About You (1999)', '10,000 BC (2008)',\n",
       "       '101 Dalmatians (1996)',\n",
       "       '101 Dalmatians (One Hundred and One Dalmatians) (1961)',\n",
       "       '102 Dalmatians (2000)', '12 Angry Men (1957)',\n",
       "       ...\n",
       "       'Zero Dark Thirty (2012)', 'Zero Effect (1998)', 'Zodiac (2007)',\n",
       "       'Zombieland (2009)', 'Zoolander (2001)', 'Zulu (1964)', '[REC] (2007)',\n",
       "       'eXistenZ (1999)', 'xXx (2002)', '¡Three Amigos! (1986)'],\n",
       "      dtype='object', name='title', length=3159)"
      ]
     },
     "execution_count": 28,
     "metadata": {},
     "output_type": "execute_result"
    }
   ],
   "source": [
    "user_movie_df.columns"
   ]
  },
  {
   "cell_type": "code",
   "execution_count": 29,
   "id": "93d1159f-bbc2-4380-a341-dcc53469028a",
   "metadata": {},
   "outputs": [],
   "source": [
    "# Item-Based Film Önerilerinin Yapılması"
   ]
  },
  {
   "cell_type": "code",
   "execution_count": 31,
   "id": "fb0d2b52-42c1-4bb4-b95c-956e7b0fa61c",
   "metadata": {},
   "outputs": [],
   "source": [
    "movie_name = \"Ocean's Twelve (2004)\""
   ]
  },
  {
   "cell_type": "code",
   "execution_count": 32,
   "id": "cf24cbe7-44da-4723-930c-faabbce8b8a2",
   "metadata": {},
   "outputs": [],
   "source": [
    "movie_name = user_movie_df[movie_name]"
   ]
  },
  {
   "cell_type": "code",
   "execution_count": 33,
   "id": "aa1f550c-9903-4fe0-b5b1-0c8130a0c1bb",
   "metadata": {},
   "outputs": [
    {
     "data": {
      "text/plain": [
       "title\n",
       "Ocean's Twelve (2004)                                 1.000000\n",
       "Ocean's Thirteen (2007)                               0.681654\n",
       "Ocean's Eleven (2001)                                 0.551280\n",
       "Eddie (1996)                                          0.474808\n",
       "National Treasure: Book of Secrets (2007)             0.474230\n",
       "Eagle Eye (2008)                                      0.473061\n",
       "Pirates of the Caribbean: On Stranger Tides (2011)    0.472446\n",
       "Ocean's Eleven (a.k.a. Ocean's 11) (1960)             0.470412\n",
       "Analyze That (2002)                                   0.459010\n",
       "Bad Boys II (2003)                                    0.458827\n",
       "dtype: float64"
      ]
     },
     "execution_count": 33,
     "metadata": {},
     "output_type": "execute_result"
    }
   ],
   "source": [
    "user_movie_df.corrwith(movie_name).sort_values(ascending=False).head(10)"
   ]
  },
  {
   "cell_type": "code",
   "execution_count": 38,
   "id": "f5f5a1c3-cc59-4da3-b2ef-ebf1dfba74bc",
   "metadata": {},
   "outputs": [],
   "source": [
    "def check_film(keyword, user_movie_df):\n",
    "    return [col for col in user_movie_df.columns if keyword in col]"
   ]
  },
  {
   "cell_type": "code",
   "execution_count": 39,
   "id": "44a0136a-c599-471b-b3da-71d17c36d9e0",
   "metadata": {},
   "outputs": [
    {
     "data": {
      "text/plain": [
       "['Insomnia (1997)', 'Insomnia (2002)']"
      ]
     },
     "execution_count": 39,
     "metadata": {},
     "output_type": "execute_result"
    }
   ],
   "source": [
    "check_film(\"Insomnia\", user_movie_df)"
   ]
  }
 ],
 "metadata": {
  "kernelspec": {
   "display_name": "Python 3 (ipykernel)",
   "language": "python",
   "name": "python3"
  },
  "language_info": {
   "codemirror_mode": {
    "name": "ipython",
    "version": 3
   },
   "file_extension": ".py",
   "mimetype": "text/x-python",
   "name": "python",
   "nbconvert_exporter": "python",
   "pygments_lexer": "ipython3",
   "version": "3.11.5"
  }
 },
 "nbformat": 4,
 "nbformat_minor": 5
}
