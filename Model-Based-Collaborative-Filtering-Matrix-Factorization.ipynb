{
 "cells": [
  {
   "cell_type": "code",
   "execution_count": 1,
   "id": "8d0b5c7c-f835-4784-bfe5-61a9d7c23b8b",
   "metadata": {},
   "outputs": [
    {
     "name": "stdout",
     "output_type": "stream",
     "text": [
      "Collecting surprise\n",
      "  Downloading surprise-0.1-py2.py3-none-any.whl (1.8 kB)\n",
      "Collecting scikit-surprise (from surprise)\n",
      "  Downloading scikit-surprise-1.1.3.tar.gz (771 kB)\n",
      "\u001b[2K     \u001b[90m━━━━━━━━━━━━━━━━━━━━━━━━━━━━━━━━━━━━━━━\u001b[0m \u001b[32m772.0/772.0 kB\u001b[0m \u001b[31m2.2 MB/s\u001b[0m eta \u001b[36m0:00:00\u001b[0m00:01\u001b[0m00:01\u001b[0m\n",
      "\u001b[?25h  Preparing metadata (setup.py) ... \u001b[?25ldone\n",
      "\u001b[?25hRequirement already satisfied: joblib>=1.0.0 in ./anaconda3/lib/python3.11/site-packages (from scikit-surprise->surprise) (1.2.0)\n",
      "Requirement already satisfied: numpy>=1.17.3 in ./anaconda3/lib/python3.11/site-packages (from scikit-surprise->surprise) (1.24.3)\n",
      "Requirement already satisfied: scipy>=1.3.2 in ./anaconda3/lib/python3.11/site-packages (from scikit-surprise->surprise) (1.11.1)\n",
      "Building wheels for collected packages: scikit-surprise\n",
      "  Building wheel for scikit-surprise (setup.py) ... \u001b[?25ldone\n",
      "\u001b[?25h  Created wheel for scikit-surprise: filename=scikit_surprise-1.1.3-cp311-cp311-macosx_10_9_x86_64.whl size=1126009 sha256=76588faf2a8a0d088042ddc0dbcde175231e56fd82583ae062410852c4cd976f\n",
      "  Stored in directory: /Users/kardelensenkus/Library/Caches/pip/wheels/f4/2b/26/e2a5eae55d3b7688995e66abe7f40473aac6c95ddd8ee174a8\n",
      "Successfully built scikit-surprise\n",
      "Installing collected packages: scikit-surprise, surprise\n",
      "Successfully installed scikit-surprise-1.1.3 surprise-0.1\n"
     ]
    }
   ],
   "source": [
    "!pip install surprise"
   ]
  },
  {
   "cell_type": "code",
   "execution_count": 2,
   "id": "fe287afa-a026-4b2a-8d9d-50c731abddc1",
   "metadata": {},
   "outputs": [],
   "source": [
    "import pandas as pd\n",
    "from surprise import Reader, SVD, Dataset, accuracy\n",
    "from surprise.model_selection import GridSearchCV, train_test_split, cross_validate\n",
    "pd.set_option('display.max_columns', None)\n",
    "import warnings\n",
    "warnings.filterwarnings('ignore')"
   ]
  },
  {
   "cell_type": "code",
   "execution_count": 3,
   "id": "ad75541c-fb97-4df2-b299-4ea0c06fee55",
   "metadata": {},
   "outputs": [],
   "source": [
    "movie = pd.read_csv('desktop/movie.csv')"
   ]
  },
  {
   "cell_type": "code",
   "execution_count": 4,
   "id": "ce498586-bbe4-424a-bfd4-25210c9075e3",
   "metadata": {},
   "outputs": [],
   "source": [
    "rating = pd.read_csv('desktop/rating.csv')"
   ]
  },
  {
   "cell_type": "code",
   "execution_count": 5,
   "id": "0e8799ea-4b1d-4916-a92d-09e041f60a41",
   "metadata": {},
   "outputs": [],
   "source": [
    "df = movie.merge(rating, how=\"left\", on=\"movieId\")"
   ]
  },
  {
   "cell_type": "code",
   "execution_count": 6,
   "id": "62d1a50c-4ff2-48b2-81fa-94d78a18e031",
   "metadata": {},
   "outputs": [
    {
     "data": {
      "text/html": [
       "<div>\n",
       "<style scoped>\n",
       "    .dataframe tbody tr th:only-of-type {\n",
       "        vertical-align: middle;\n",
       "    }\n",
       "\n",
       "    .dataframe tbody tr th {\n",
       "        vertical-align: top;\n",
       "    }\n",
       "\n",
       "    .dataframe thead th {\n",
       "        text-align: right;\n",
       "    }\n",
       "</style>\n",
       "<table border=\"1\" class=\"dataframe\">\n",
       "  <thead>\n",
       "    <tr style=\"text-align: right;\">\n",
       "      <th></th>\n",
       "      <th>movieId</th>\n",
       "      <th>title</th>\n",
       "      <th>genres</th>\n",
       "      <th>userId</th>\n",
       "      <th>rating</th>\n",
       "      <th>timestamp</th>\n",
       "    </tr>\n",
       "  </thead>\n",
       "  <tbody>\n",
       "    <tr>\n",
       "      <th>0</th>\n",
       "      <td>1</td>\n",
       "      <td>Toy Story (1995)</td>\n",
       "      <td>Adventure|Animation|Children|Comedy|Fantasy</td>\n",
       "      <td>3.0</td>\n",
       "      <td>4.0</td>\n",
       "      <td>1999-12-11 13:36:47</td>\n",
       "    </tr>\n",
       "    <tr>\n",
       "      <th>1</th>\n",
       "      <td>1</td>\n",
       "      <td>Toy Story (1995)</td>\n",
       "      <td>Adventure|Animation|Children|Comedy|Fantasy</td>\n",
       "      <td>6.0</td>\n",
       "      <td>5.0</td>\n",
       "      <td>1997-03-13 17:50:52</td>\n",
       "    </tr>\n",
       "    <tr>\n",
       "      <th>2</th>\n",
       "      <td>1</td>\n",
       "      <td>Toy Story (1995)</td>\n",
       "      <td>Adventure|Animation|Children|Comedy|Fantasy</td>\n",
       "      <td>8.0</td>\n",
       "      <td>4.0</td>\n",
       "      <td>1996-06-05 13:37:51</td>\n",
       "    </tr>\n",
       "    <tr>\n",
       "      <th>3</th>\n",
       "      <td>1</td>\n",
       "      <td>Toy Story (1995)</td>\n",
       "      <td>Adventure|Animation|Children|Comedy|Fantasy</td>\n",
       "      <td>10.0</td>\n",
       "      <td>4.0</td>\n",
       "      <td>1999-11-25 02:44:47</td>\n",
       "    </tr>\n",
       "    <tr>\n",
       "      <th>4</th>\n",
       "      <td>1</td>\n",
       "      <td>Toy Story (1995)</td>\n",
       "      <td>Adventure|Animation|Children|Comedy|Fantasy</td>\n",
       "      <td>11.0</td>\n",
       "      <td>4.5</td>\n",
       "      <td>2009-01-02 01:13:41</td>\n",
       "    </tr>\n",
       "  </tbody>\n",
       "</table>\n",
       "</div>"
      ],
      "text/plain": [
       "   movieId             title                                       genres  \\\n",
       "0        1  Toy Story (1995)  Adventure|Animation|Children|Comedy|Fantasy   \n",
       "1        1  Toy Story (1995)  Adventure|Animation|Children|Comedy|Fantasy   \n",
       "2        1  Toy Story (1995)  Adventure|Animation|Children|Comedy|Fantasy   \n",
       "3        1  Toy Story (1995)  Adventure|Animation|Children|Comedy|Fantasy   \n",
       "4        1  Toy Story (1995)  Adventure|Animation|Children|Comedy|Fantasy   \n",
       "\n",
       "   userId  rating            timestamp  \n",
       "0     3.0     4.0  1999-12-11 13:36:47  \n",
       "1     6.0     5.0  1997-03-13 17:50:52  \n",
       "2     8.0     4.0  1996-06-05 13:37:51  \n",
       "3    10.0     4.0  1999-11-25 02:44:47  \n",
       "4    11.0     4.5  2009-01-02 01:13:41  "
      ]
     },
     "execution_count": 6,
     "metadata": {},
     "output_type": "execute_result"
    }
   ],
   "source": [
    "df.head()"
   ]
  },
  {
   "cell_type": "code",
   "execution_count": 7,
   "id": "537f198a-7abd-4475-9043-25ca2aa9703e",
   "metadata": {},
   "outputs": [],
   "source": [
    "movie_ids = [130219, 356, 4422, 541]"
   ]
  },
  {
   "cell_type": "code",
   "execution_count": 8,
   "id": "5fecb627-1b45-4a9d-aca0-9fd260ffd2b6",
   "metadata": {},
   "outputs": [],
   "source": [
    "movies = [\"The Dark Knight (2011)\",\n",
    "          \"Cries and Whispers (Viskningar och rop) (1972)\",\n",
    "          \"Forrest Gump (1994)\",\n",
    "          \"Blade Runner (1982)\"]"
   ]
  },
  {
   "cell_type": "code",
   "execution_count": 9,
   "id": "dd7bb332-d9ab-4d8f-b645-1b1f845dda31",
   "metadata": {},
   "outputs": [],
   "source": [
    "sample_df = df[df.movieId.isin(movie_ids)]"
   ]
  },
  {
   "cell_type": "code",
   "execution_count": 10,
   "id": "1b6fd53c-c967-48c8-a61c-d7bfa21e30fc",
   "metadata": {},
   "outputs": [
    {
     "data": {
      "text/html": [
       "<div>\n",
       "<style scoped>\n",
       "    .dataframe tbody tr th:only-of-type {\n",
       "        vertical-align: middle;\n",
       "    }\n",
       "\n",
       "    .dataframe tbody tr th {\n",
       "        vertical-align: top;\n",
       "    }\n",
       "\n",
       "    .dataframe thead th {\n",
       "        text-align: right;\n",
       "    }\n",
       "</style>\n",
       "<table border=\"1\" class=\"dataframe\">\n",
       "  <thead>\n",
       "    <tr style=\"text-align: right;\">\n",
       "      <th></th>\n",
       "      <th>movieId</th>\n",
       "      <th>title</th>\n",
       "      <th>genres</th>\n",
       "      <th>userId</th>\n",
       "      <th>rating</th>\n",
       "      <th>timestamp</th>\n",
       "    </tr>\n",
       "  </thead>\n",
       "  <tbody>\n",
       "    <tr>\n",
       "      <th>2457839</th>\n",
       "      <td>356</td>\n",
       "      <td>Forrest Gump (1994)</td>\n",
       "      <td>Comedy|Drama|Romance|War</td>\n",
       "      <td>4.0</td>\n",
       "      <td>4.0</td>\n",
       "      <td>1996-08-24 09:28:42</td>\n",
       "    </tr>\n",
       "    <tr>\n",
       "      <th>2457840</th>\n",
       "      <td>356</td>\n",
       "      <td>Forrest Gump (1994)</td>\n",
       "      <td>Comedy|Drama|Romance|War</td>\n",
       "      <td>7.0</td>\n",
       "      <td>4.0</td>\n",
       "      <td>2002-01-16 19:02:55</td>\n",
       "    </tr>\n",
       "    <tr>\n",
       "      <th>2457841</th>\n",
       "      <td>356</td>\n",
       "      <td>Forrest Gump (1994)</td>\n",
       "      <td>Comedy|Drama|Romance|War</td>\n",
       "      <td>8.0</td>\n",
       "      <td>5.0</td>\n",
       "      <td>1996-06-05 13:44:19</td>\n",
       "    </tr>\n",
       "    <tr>\n",
       "      <th>2457842</th>\n",
       "      <td>356</td>\n",
       "      <td>Forrest Gump (1994)</td>\n",
       "      <td>Comedy|Drama|Romance|War</td>\n",
       "      <td>9.0</td>\n",
       "      <td>4.0</td>\n",
       "      <td>2001-07-01 20:26:38</td>\n",
       "    </tr>\n",
       "    <tr>\n",
       "      <th>2457843</th>\n",
       "      <td>356</td>\n",
       "      <td>Forrest Gump (1994)</td>\n",
       "      <td>Comedy|Drama|Romance|War</td>\n",
       "      <td>10.0</td>\n",
       "      <td>3.0</td>\n",
       "      <td>1999-11-25 02:32:02</td>\n",
       "    </tr>\n",
       "  </tbody>\n",
       "</table>\n",
       "</div>"
      ],
      "text/plain": [
       "         movieId                title                    genres  userId  \\\n",
       "2457839      356  Forrest Gump (1994)  Comedy|Drama|Romance|War     4.0   \n",
       "2457840      356  Forrest Gump (1994)  Comedy|Drama|Romance|War     7.0   \n",
       "2457841      356  Forrest Gump (1994)  Comedy|Drama|Romance|War     8.0   \n",
       "2457842      356  Forrest Gump (1994)  Comedy|Drama|Romance|War     9.0   \n",
       "2457843      356  Forrest Gump (1994)  Comedy|Drama|Romance|War    10.0   \n",
       "\n",
       "         rating            timestamp  \n",
       "2457839     4.0  1996-08-24 09:28:42  \n",
       "2457840     4.0  2002-01-16 19:02:55  \n",
       "2457841     5.0  1996-06-05 13:44:19  \n",
       "2457842     4.0  2001-07-01 20:26:38  \n",
       "2457843     3.0  1999-11-25 02:32:02  "
      ]
     },
     "execution_count": 10,
     "metadata": {},
     "output_type": "execute_result"
    }
   ],
   "source": [
    "sample_df.head()"
   ]
  },
  {
   "cell_type": "code",
   "execution_count": 11,
   "id": "f0887ab3-0b3a-453e-8f2d-cd38e5624898",
   "metadata": {},
   "outputs": [
    {
     "data": {
      "text/plain": [
       "(97343, 6)"
      ]
     },
     "execution_count": 11,
     "metadata": {},
     "output_type": "execute_result"
    }
   ],
   "source": [
    "sample_df.shape"
   ]
  },
  {
   "cell_type": "code",
   "execution_count": 12,
   "id": "2fc0f502-dcb1-4b05-bcd7-7696009140b1",
   "metadata": {},
   "outputs": [],
   "source": [
    "user_movie_df = sample_df.pivot_table(index=[\"userId\"],\n",
    "                                      columns=[\"title\"],\n",
    "                                      values=\"rating\")"
   ]
  },
  {
   "cell_type": "code",
   "execution_count": 13,
   "id": "cd8028c3-a16c-4185-a3be-a5375238c46a",
   "metadata": {},
   "outputs": [
    {
     "data": {
      "text/plain": [
       "(76918, 4)"
      ]
     },
     "execution_count": 13,
     "metadata": {},
     "output_type": "execute_result"
    }
   ],
   "source": [
    "user_movie_df.shape"
   ]
  },
  {
   "cell_type": "code",
   "execution_count": 14,
   "id": "2ea5ebf3-4370-4909-8ec4-f0d6b77bafb9",
   "metadata": {},
   "outputs": [],
   "source": [
    "reader = Reader(rating_scale=(1, 5))"
   ]
  },
  {
   "cell_type": "code",
   "execution_count": 15,
   "id": "419cbb3c-05d0-4ad4-a602-efa0d3dd7556",
   "metadata": {},
   "outputs": [],
   "source": [
    "data = Dataset.load_from_df(sample_df[['userId',\n",
    "                                       'movieId',\n",
    "                                       'rating']], reader)"
   ]
  },
  {
   "cell_type": "code",
   "execution_count": 16,
   "id": "167f144d-7e4b-4a60-8dcb-bf70d1ab49c4",
   "metadata": {},
   "outputs": [],
   "source": [
    "# Modelleme"
   ]
  },
  {
   "cell_type": "code",
   "execution_count": 17,
   "id": "174b1882-bcd9-4d02-8cbf-fbc3ab63c4bf",
   "metadata": {},
   "outputs": [],
   "source": [
    "trainset, testset = train_test_split(data, test_size=.25)"
   ]
  },
  {
   "cell_type": "code",
   "execution_count": 18,
   "id": "b48ffd07-2560-440d-b337-9a312188b02e",
   "metadata": {},
   "outputs": [],
   "source": [
    "svd_model = SVD()"
   ]
  },
  {
   "cell_type": "code",
   "execution_count": 19,
   "id": "37749f8f-098b-48d9-9894-ea14b72c1c45",
   "metadata": {},
   "outputs": [
    {
     "data": {
      "text/plain": [
       "<surprise.prediction_algorithms.matrix_factorization.SVD at 0x1874c3c50>"
      ]
     },
     "execution_count": 19,
     "metadata": {},
     "output_type": "execute_result"
    }
   ],
   "source": [
    "svd_model.fit(trainset)"
   ]
  },
  {
   "cell_type": "code",
   "execution_count": 20,
   "id": "f209e36f-f1be-4fce-958a-0f0cc014a4b2",
   "metadata": {},
   "outputs": [],
   "source": [
    "predictions = svd_model.test(testset)"
   ]
  },
  {
   "cell_type": "code",
   "execution_count": 21,
   "id": "292e5bf9-ea64-4e8a-ad27-076097ace22e",
   "metadata": {},
   "outputs": [
    {
     "name": "stdout",
     "output_type": "stream",
     "text": [
      "RMSE: 0.9361\n"
     ]
    },
    {
     "data": {
      "text/plain": [
       "0.9361427423745392"
      ]
     },
     "execution_count": 21,
     "metadata": {},
     "output_type": "execute_result"
    }
   ],
   "source": [
    "accuracy.rmse(predictions)"
   ]
  },
  {
   "cell_type": "code",
   "execution_count": 22,
   "id": "f0239de5-8414-4ccf-9567-0db2b16d9492",
   "metadata": {},
   "outputs": [
    {
     "name": "stdout",
     "output_type": "stream",
     "text": [
      "user: 1.0        item: 541        r_ui = None   est = 4.03   {'was_impossible': False}\n"
     ]
    },
    {
     "data": {
      "text/plain": [
       "Prediction(uid=1.0, iid=541, r_ui=None, est=4.029822162103998, details={'was_impossible': False})"
      ]
     },
     "execution_count": 22,
     "metadata": {},
     "output_type": "execute_result"
    }
   ],
   "source": [
    "svd_model.predict(uid=1.0, iid=541, verbose=True)"
   ]
  },
  {
   "cell_type": "code",
   "execution_count": 23,
   "id": "41fd8d36-ce05-4f75-adad-f88e53d2fad1",
   "metadata": {},
   "outputs": [
    {
     "name": "stdout",
     "output_type": "stream",
     "text": [
      "user: 1.0        item: 356        r_ui = None   est = 4.21   {'was_impossible': False}\n"
     ]
    },
    {
     "data": {
      "text/plain": [
       "Prediction(uid=1.0, iid=356, r_ui=None, est=4.210577244921602, details={'was_impossible': False})"
      ]
     },
     "execution_count": 23,
     "metadata": {},
     "output_type": "execute_result"
    }
   ],
   "source": [
    "svd_model.predict(uid=1.0, iid=356, verbose=True)"
   ]
  },
  {
   "cell_type": "code",
   "execution_count": 24,
   "id": "7a9394e8-932f-4253-b311-d68a7964dd05",
   "metadata": {},
   "outputs": [
    {
     "data": {
      "text/html": [
       "<div>\n",
       "<style scoped>\n",
       "    .dataframe tbody tr th:only-of-type {\n",
       "        vertical-align: middle;\n",
       "    }\n",
       "\n",
       "    .dataframe tbody tr th {\n",
       "        vertical-align: top;\n",
       "    }\n",
       "\n",
       "    .dataframe thead th {\n",
       "        text-align: right;\n",
       "    }\n",
       "</style>\n",
       "<table border=\"1\" class=\"dataframe\">\n",
       "  <thead>\n",
       "    <tr style=\"text-align: right;\">\n",
       "      <th></th>\n",
       "      <th>movieId</th>\n",
       "      <th>title</th>\n",
       "      <th>genres</th>\n",
       "      <th>userId</th>\n",
       "      <th>rating</th>\n",
       "      <th>timestamp</th>\n",
       "    </tr>\n",
       "  </thead>\n",
       "  <tbody>\n",
       "    <tr>\n",
       "      <th>3612352</th>\n",
       "      <td>541</td>\n",
       "      <td>Blade Runner (1982)</td>\n",
       "      <td>Action|Sci-Fi|Thriller</td>\n",
       "      <td>1.0</td>\n",
       "      <td>4.0</td>\n",
       "      <td>2005-04-02 23:30:03</td>\n",
       "    </tr>\n",
       "  </tbody>\n",
       "</table>\n",
       "</div>"
      ],
      "text/plain": [
       "         movieId                title                  genres  userId  rating  \\\n",
       "3612352      541  Blade Runner (1982)  Action|Sci-Fi|Thriller     1.0     4.0   \n",
       "\n",
       "                   timestamp  \n",
       "3612352  2005-04-02 23:30:03  "
      ]
     },
     "execution_count": 24,
     "metadata": {},
     "output_type": "execute_result"
    }
   ],
   "source": [
    "sample_df[sample_df[\"userId\"] == 1]"
   ]
  },
  {
   "cell_type": "code",
   "execution_count": 25,
   "id": "fadd9d76-e5ae-4ead-8f12-e172358e55c5",
   "metadata": {},
   "outputs": [],
   "source": [
    "# Model Tuning"
   ]
  },
  {
   "cell_type": "code",
   "execution_count": 26,
   "id": "9e98c06b-1c47-4bac-96b7-bdaa970e0343",
   "metadata": {},
   "outputs": [],
   "source": [
    "param_grid = {'n_epochs': [5, 10, 20],\n",
    "              'lr_all': [0.002, 0.005, 0.007]}"
   ]
  },
  {
   "cell_type": "code",
   "execution_count": 27,
   "id": "7769f20c-9494-4a42-9404-0acb97144526",
   "metadata": {},
   "outputs": [],
   "source": [
    "gs = GridSearchCV(SVD,\n",
    "                  param_grid,\n",
    "                  measures=['rmse', 'mae'],\n",
    "                  cv=3,\n",
    "                  n_jobs=-1,\n",
    "                  joblib_verbose=True)"
   ]
  },
  {
   "cell_type": "code",
   "execution_count": 28,
   "id": "d8cc7c49-2f69-4291-9086-75f4e24dbab8",
   "metadata": {},
   "outputs": [
    {
     "name": "stderr",
     "output_type": "stream",
     "text": [
      "[Parallel(n_jobs=-1)]: Using backend LokyBackend with 8 concurrent workers.\n",
      "[Parallel(n_jobs=-1)]: Done  27 out of  27 | elapsed:   10.3s finished\n"
     ]
    }
   ],
   "source": [
    "gs.fit(data)"
   ]
  },
  {
   "cell_type": "code",
   "execution_count": 29,
   "id": "e9770409-c5b8-4a5a-85b1-c52df16a20a3",
   "metadata": {},
   "outputs": [
    {
     "data": {
      "text/plain": [
       "0.9309360212369175"
      ]
     },
     "execution_count": 29,
     "metadata": {},
     "output_type": "execute_result"
    }
   ],
   "source": [
    "gs.best_score['rmse']"
   ]
  },
  {
   "cell_type": "code",
   "execution_count": 30,
   "id": "f2ccb37a-ff49-4159-ac5c-f482c2ab2064",
   "metadata": {},
   "outputs": [
    {
     "data": {
      "text/plain": [
       "{'n_epochs': 10, 'lr_all': 0.002}"
      ]
     },
     "execution_count": 30,
     "metadata": {},
     "output_type": "execute_result"
    }
   ],
   "source": [
    "gs.best_params['rmse']"
   ]
  },
  {
   "cell_type": "code",
   "execution_count": 31,
   "id": "e33a671a-2f1c-458e-ac6c-096d53301751",
   "metadata": {},
   "outputs": [],
   "source": [
    "# Final Model ve Tahmin"
   ]
  },
  {
   "cell_type": "code",
   "execution_count": 32,
   "id": "3f3aa5e6-384d-47be-9925-82b15c68e76a",
   "metadata": {},
   "outputs": [
    {
     "data": {
      "text/plain": [
       "20"
      ]
     },
     "execution_count": 32,
     "metadata": {},
     "output_type": "execute_result"
    }
   ],
   "source": [
    "dir(svd_model)\n",
    "svd_model.n_epochs"
   ]
  },
  {
   "cell_type": "code",
   "execution_count": 33,
   "id": "80963e58-47bb-4fc8-8fea-e8acf21639cb",
   "metadata": {},
   "outputs": [],
   "source": [
    "svd_model = SVD(**gs.best_params['rmse'])"
   ]
  },
  {
   "cell_type": "code",
   "execution_count": 34,
   "id": "6b9810d9-ac15-4ac5-a44d-24a6490be231",
   "metadata": {},
   "outputs": [
    {
     "data": {
      "text/plain": [
       "<surprise.prediction_algorithms.matrix_factorization.SVD at 0x18996d950>"
      ]
     },
     "execution_count": 34,
     "metadata": {},
     "output_type": "execute_result"
    }
   ],
   "source": [
    "data = data.build_full_trainset()\n",
    "svd_model.fit(data)"
   ]
  },
  {
   "cell_type": "code",
   "execution_count": 35,
   "id": "56156222-a7f0-4b24-bc55-d39325bbc89f",
   "metadata": {},
   "outputs": [
    {
     "name": "stdout",
     "output_type": "stream",
     "text": [
      "user: 1.0        item: 541        r_ui = None   est = 4.16   {'was_impossible': False}\n"
     ]
    },
    {
     "data": {
      "text/plain": [
       "Prediction(uid=1.0, iid=541, r_ui=None, est=4.163882921290023, details={'was_impossible': False})"
      ]
     },
     "execution_count": 35,
     "metadata": {},
     "output_type": "execute_result"
    }
   ],
   "source": [
    "svd_model.predict(uid=1.0, iid=541, verbose=True)"
   ]
  }
 ],
 "metadata": {
  "kernelspec": {
   "display_name": "Python 3 (ipykernel)",
   "language": "python",
   "name": "python3"
  },
  "language_info": {
   "codemirror_mode": {
    "name": "ipython",
    "version": 3
   },
   "file_extension": ".py",
   "mimetype": "text/x-python",
   "name": "python",
   "nbconvert_exporter": "python",
   "pygments_lexer": "ipython3",
   "version": "3.11.5"
  }
 },
 "nbformat": 4,
 "nbformat_minor": 5
}
